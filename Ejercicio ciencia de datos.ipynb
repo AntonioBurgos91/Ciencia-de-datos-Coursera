{
  "metadata": {
    "kernelspec": {
      "name": "python",
      "display_name": "Python (Pyodide)",
      "language": "python"
    },
    "language_info": {
      "codemirror_mode": {
        "name": "python",
        "version": 3
      },
      "file_extension": ".py",
      "mimetype": "text/x-python",
      "name": "python",
      "nbconvert_exporter": "python",
      "pygments_lexer": "ipython3",
      "version": "3.8"
    }
  },
  "nbformat_minor": 5,
  "nbformat": 4,
  "cells": [
    {
      "id": "5e77273a-1c3c-45c7-bcdc-b4b823d4ae3d",
      "cell_type": "markdown",
      "source": "## Data Science Tools and Ecosystem",
      "metadata": {}
    },
    {
      "id": "f6484c67-e921-401b-a8cc-53dd313d96ee",
      "cell_type": "markdown",
      "source": "### In this notebook, we will summarize some of the most commonly used tools, languages, and libraries in Data Science.\n### We will also perform some basic arithmetic operations using Python.",
      "metadata": {}
    },
    {
      "id": "6031d012-7a4a-4e5f-85ff-6e0a701d5c8a",
      "cell_type": "markdown",
      "source": "## Some of the popular languages that Data Scientists use are:\n#### 1. Python \n#### 2. R\n#### 3. SQL\n#### 4. Julia\n #### 5. Scala",
      "metadata": {}
    },
    {
      "id": "36534f58-3e54-49cd-931b-c638ac02ecfc",
      "cell_type": "markdown",
      "source": "## Some of the commonly used libraries for Data Science include:\n#### - Pandas\n#### - NumPy\n#### - Scikit-learn\n#### - TensorFlow\n#### - Matplotlib",
      "metadata": {}
    },
    {
      "id": "81bcdb12-862f-4428-8a80-d2f50486bbe7",
      "cell_type": "markdown",
      "source": "## Data Science Toolbox:\n\n| Data Science Tools |\n|--------------------|\n| Jupyter Notebook  |\n| RStudio          |\n| Apache Spark     |\n| VS Code          |",
      "metadata": {}
    },
    {
      "id": "a6bb53de-7573-46cb-89db-dda71ba6dded",
      "cell_type": "code",
      "source": "# Below are some examples of arithmetic expressions:\n# Addition:\na = 5 + 3\n# Subtraction:\nb = 10 - 4\n# Multiplication:\nc = 5 * 2\n# Division:\nd = 4 / 2\n\n",
      "metadata": {
        "trusted": true
      },
      "outputs": [],
      "execution_count": 12
    },
    {
      "id": "dd27db04-cb7f-4f38-98d5-42582ef25983",
      "cell_type": "code",
      "source": "# This is a simple arithmetic expression to multiply then add numbers\n(3 * 4) + 5",
      "metadata": {
        "trusted": true
      },
      "outputs": [
        {
          "execution_count": 13,
          "output_type": "execute_result",
          "data": {
            "text/plain": "17"
          },
          "metadata": {}
        }
      ],
      "execution_count": 13
    },
    {
      "id": "b9c96e91-52b5-4bbc-91e5-27f1aa3752f1",
      "cell_type": "code",
      "source": "# This will convert 200 minutes to hours by dividing by 60\n200 / 60",
      "metadata": {
        "trusted": true
      },
      "outputs": [
        {
          "execution_count": 14,
          "output_type": "execute_result",
          "data": {
            "text/plain": "3.3333333333333335"
          },
          "metadata": {}
        }
      ],
      "execution_count": 14
    },
    {
      "id": "8ca5bae5-6611-4c2c-b1b9-b786c3b8b7d7",
      "cell_type": "code",
      "source": "# List of Data Science objectives\nobjectives = [\n    \"Understand the basics of Python\",\n    \"Learn data manipulation with Pandas\",\n    \"Master data visualization with Matplotlib and Seaborn\",\n    \"Understand statistical analysis and probability\",\n    \"Learn Machine Learning fundamentals\",\n    \"Work with real-world datasets\"\n]\n\n# Print the objectives\nfor i, obj in enumerate(objectives, 1):\n    print(f\"{i}. {obj}\")\n",
      "metadata": {
        "trusted": true
      },
      "outputs": [
        {
          "name": "stdout",
          "output_type": "stream",
          "text": "1. Understand the basics of Python\n2. Learn data manipulation with Pandas\n3. Master data visualization with Matplotlib and Seaborn\n4. Understand statistical analysis and probability\n5. Learn Machine Learning fundamentals\n6. Work with real-world datasets\n"
        }
      ],
      "execution_count": 15
    },
    {
      "id": "67b29f4d-a59b-444b-b3f9-4b7d42e9ca6c",
      "cell_type": "markdown",
      "source": "# ANTONIO JESUS BURGOS BRIALES",
      "metadata": {}
    },
    {
      "id": "fa6f4b8c-92dc-4fbf-a516-20fc1fef33da",
      "cell_type": "code",
      "source": "",
      "metadata": {
        "trusted": true
      },
      "outputs": [],
      "execution_count": null
    }
  ]
}